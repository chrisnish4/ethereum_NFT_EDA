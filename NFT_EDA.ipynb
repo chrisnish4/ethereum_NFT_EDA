{
 "cells": [
  {
   "cell_type": "code",
   "execution_count": 58,
   "metadata": {},
   "outputs": [],
   "source": [
    "import sqlite3\n",
    "import pandas as pd\n",
    "import matplotlib.pyplot as plt\n",
    "import numpy as np"
   ]
  },
  {
   "cell_type": "code",
   "execution_count": 2,
   "metadata": {},
   "outputs": [],
   "source": [
    "db_path = '/Users/chris/Desktop/Data Science/nfts.sqlite'\n",
    "conn = sqlite3.connect(db_path)\n",
    "c = conn.cursor()"
   ]
  },
  {
   "cell_type": "markdown",
   "metadata": {},
   "source": [
    "# EDA"
   ]
  },
  {
   "cell_type": "markdown",
   "metadata": {},
   "source": [
    "## Who owns the most NFTs?"
   ]
  },
  {
   "cell_type": "code",
   "execution_count": 3,
   "metadata": {},
   "outputs": [],
   "source": [
    "majority_owners = \"\"\"\n",
    "select owner, count(owner) as num_owned\n",
    "from current_owners\n",
    "group by owner\n",
    "order by num_owned desc\n",
    "limit 10;\n",
    "\"\"\"\n",
    "\n",
    "c.execute(majority_owners)\n",
    "mo = c.fetchall()"
   ]
  },
  {
   "cell_type": "code",
   "execution_count": 4,
   "metadata": {},
   "outputs": [],
   "source": [
    "mo_df = pd.DataFrame(mo)\n",
    "mo_df.columns = ['owner', 'num_NFTs']"
   ]
  },
  {
   "cell_type": "code",
   "execution_count": 5,
   "metadata": {},
   "outputs": [
    {
     "data": {
      "text/html": [
       "<div>\n",
       "<style scoped>\n",
       "    .dataframe tbody tr th:only-of-type {\n",
       "        vertical-align: middle;\n",
       "    }\n",
       "\n",
       "    .dataframe tbody tr th {\n",
       "        vertical-align: top;\n",
       "    }\n",
       "\n",
       "    .dataframe thead th {\n",
       "        text-align: right;\n",
       "    }\n",
       "</style>\n",
       "<table border=\"1\" class=\"dataframe\">\n",
       "  <thead>\n",
       "    <tr style=\"text-align: right;\">\n",
       "      <th></th>\n",
       "      <th>owner</th>\n",
       "      <th>num_NFTs</th>\n",
       "    </tr>\n",
       "  </thead>\n",
       "  <tbody>\n",
       "    <tr>\n",
       "      <th>0</th>\n",
       "      <td>0x02E4103b8A3c55AcDDF298311a9928f9Fe27822C</td>\n",
       "      <td>100045</td>\n",
       "    </tr>\n",
       "    <tr>\n",
       "      <th>1</th>\n",
       "      <td>0x0000000000000000000000000000000000000000</td>\n",
       "      <td>83548</td>\n",
       "    </tr>\n",
       "    <tr>\n",
       "      <th>2</th>\n",
       "      <td>0xE052113bd7D7700d623414a0a4585BCaE754E9d5</td>\n",
       "      <td>51028</td>\n",
       "    </tr>\n",
       "    <tr>\n",
       "      <th>3</th>\n",
       "      <td>0xcDA72070E455bb31C7690a170224Ce43623d0B6f</td>\n",
       "      <td>50131</td>\n",
       "    </tr>\n",
       "    <tr>\n",
       "      <th>4</th>\n",
       "      <td>0x96bEE49d3386d674bF4E956D9B3ce61b9540409D</td>\n",
       "      <td>36751</td>\n",
       "    </tr>\n",
       "    <tr>\n",
       "      <th>5</th>\n",
       "      <td>0xC69b4c6fFDBaF843A0d0588c99E3C67f27069BEa</td>\n",
       "      <td>32905</td>\n",
       "    </tr>\n",
       "    <tr>\n",
       "      <th>6</th>\n",
       "      <td>0xBa0d01220a7CeA942596123102535F800f558763</td>\n",
       "      <td>32691</td>\n",
       "    </tr>\n",
       "    <tr>\n",
       "      <th>7</th>\n",
       "      <td>0x000000000000000000000000000000000000dEaD</td>\n",
       "      <td>19758</td>\n",
       "    </tr>\n",
       "    <tr>\n",
       "      <th>8</th>\n",
       "      <td>0x0008d343091EF8BD3EFA730F6aAE5A26a285C7a2</td>\n",
       "      <td>12137</td>\n",
       "    </tr>\n",
       "    <tr>\n",
       "      <th>9</th>\n",
       "      <td>0xD387A6E4e84a6C86bd90C158C6028A58CC8Ac459</td>\n",
       "      <td>11497</td>\n",
       "    </tr>\n",
       "  </tbody>\n",
       "</table>\n",
       "</div>"
      ],
      "text/plain": [
       "                                        owner  num_NFTs\n",
       "0  0x02E4103b8A3c55AcDDF298311a9928f9Fe27822C    100045\n",
       "1  0x0000000000000000000000000000000000000000     83548\n",
       "2  0xE052113bd7D7700d623414a0a4585BCaE754E9d5     51028\n",
       "3  0xcDA72070E455bb31C7690a170224Ce43623d0B6f     50131\n",
       "4  0x96bEE49d3386d674bF4E956D9B3ce61b9540409D     36751\n",
       "5  0xC69b4c6fFDBaF843A0d0588c99E3C67f27069BEa     32905\n",
       "6  0xBa0d01220a7CeA942596123102535F800f558763     32691\n",
       "7  0x000000000000000000000000000000000000dEaD     19758\n",
       "8  0x0008d343091EF8BD3EFA730F6aAE5A26a285C7a2     12137\n",
       "9  0xD387A6E4e84a6C86bd90C158C6028A58CC8Ac459     11497"
      ]
     },
     "execution_count": 5,
     "metadata": {},
     "output_type": "execute_result"
    }
   ],
   "source": [
    "mo_df"
   ]
  },
  {
   "cell_type": "markdown",
   "metadata": {},
   "source": [
    "## What is the price distribution of NFTs?\n",
    "not enough detail in the hist"
   ]
  },
  {
   "cell_type": "code",
   "execution_count": 12,
   "metadata": {},
   "outputs": [],
   "source": [
    "price_dist = \"\"\"\n",
    "select market_value \n",
    "from current_market_values\n",
    "\"\"\"\n",
    "\n",
    "c.execute(price_dist)\n",
    "p = c.fetchall()"
   ]
  },
  {
   "cell_type": "code",
   "execution_count": 13,
   "metadata": {},
   "outputs": [],
   "source": [
    "p_df = pd.DataFrame(p)\n",
    "p_df.columns = ['prices']"
   ]
  },
  {
   "cell_type": "code",
   "execution_count": 19,
   "metadata": {},
   "outputs": [
    {
     "data": {
      "text/plain": [
       "prices    1.890000e+22\n",
       "dtype: float64"
      ]
     },
     "execution_count": 19,
     "metadata": {},
     "output_type": "execute_result"
    }
   ],
   "source": [
    "p_df.max()"
   ]
  },
  {
   "cell_type": "code",
   "execution_count": 71,
   "metadata": {},
   "outputs": [
    {
     "data": {
      "text/plain": [
       "(0.0, 7500000.0)"
      ]
     },
     "execution_count": 71,
     "metadata": {},
     "output_type": "execute_result"
    },
    {
     "data": {
      "image/png": "[encoded data removed]",
      "text/plain": [
       "<Figure size 432x288 with 1 Axes>"
      ]
     },
     "metadata": {
      "needs_background": "light"
     },
     "output_type": "display_data"
    }
   ],
   "source": [
    "hist = plt.hist(p_df['prices'], bins = 50)\n",
    "axes = plt.gca()\n",
    "axes.set_ylim([0,7500000])"
   ]
  },
  {
   "cell_type": "markdown",
   "metadata": {},
   "source": [
    "### Found\n",
    "-"
   ]
  },
  {
   "cell_type": "markdown",
   "metadata": {},
   "source": [
    "## How many NFTs are minted per day?"
   ]
  },
  {
   "cell_type": "code",
   "execution_count": 22,
   "metadata": {},
   "outputs": [],
   "source": [
    "mint = \"\"\"\n",
    "select timestamp, count(timestamp)\n",
    "from mints \n",
    "group by timestamp;\n",
    "\"\"\"\n",
    "\n",
    "c.execute(mint)\n",
    "m = c.fetchall()"
   ]
  },
  {
   "cell_type": "code",
   "execution_count": 24,
   "metadata": {},
   "outputs": [],
   "source": [
    "m_df = pd.DataFrame(m)\n",
    "m_df.columns = ['mint timestamp', 'count']"
   ]
  },
  {
   "cell_type": "code",
   "execution_count": 25,
   "metadata": {},
   "outputs": [
    {
     "data": {
      "text/html": [
       "<div>\n",
       "<style scoped>\n",
       "    .dataframe tbody tr th:only-of-type {\n",
       "        vertical-align: middle;\n",
       "    }\n",
       "\n",
       "    .dataframe tbody tr th {\n",
       "        vertical-align: top;\n",
       "    }\n",
       "\n",
       "    .dataframe thead th {\n",
       "        text-align: right;\n",
       "    }\n",
       "</style>\n",
       "<table border=\"1\" class=\"dataframe\">\n",
       "  <thead>\n",
       "    <tr style=\"text-align: right;\">\n",
       "      <th></th>\n",
       "      <th>mint timestamp</th>\n",
       "      <th>count</th>\n",
       "    </tr>\n",
       "  </thead>\n",
       "  <tbody>\n",
       "    <tr>\n",
       "      <th>0</th>\n",
       "      <td>1617235206</td>\n",
       "      <td>2</td>\n",
       "    </tr>\n",
       "    <tr>\n",
       "      <th>1</th>\n",
       "      <td>1617235214</td>\n",
       "      <td>4</td>\n",
       "    </tr>\n",
       "    <tr>\n",
       "      <th>2</th>\n",
       "      <td>1617235218</td>\n",
       "      <td>2</td>\n",
       "    </tr>\n",
       "    <tr>\n",
       "      <th>3</th>\n",
       "      <td>1617235225</td>\n",
       "      <td>1</td>\n",
       "    </tr>\n",
       "    <tr>\n",
       "      <th>4</th>\n",
       "      <td>1617235235</td>\n",
       "      <td>2</td>\n",
       "    </tr>\n",
       "    <tr>\n",
       "      <th>...</th>\n",
       "      <td>...</td>\n",
       "      <td>...</td>\n",
       "    </tr>\n",
       "    <tr>\n",
       "      <th>709119</th>\n",
       "      <td>1632586509</td>\n",
       "      <td>19</td>\n",
       "    </tr>\n",
       "    <tr>\n",
       "      <th>709120</th>\n",
       "      <td>1632586523</td>\n",
       "      <td>5</td>\n",
       "    </tr>\n",
       "    <tr>\n",
       "      <th>709121</th>\n",
       "      <td>1632586528</td>\n",
       "      <td>7</td>\n",
       "    </tr>\n",
       "    <tr>\n",
       "      <th>709122</th>\n",
       "      <td>1632586532</td>\n",
       "      <td>7</td>\n",
       "    </tr>\n",
       "    <tr>\n",
       "      <th>709123</th>\n",
       "      <td>1632586540</td>\n",
       "      <td>2</td>\n",
       "    </tr>\n",
       "  </tbody>\n",
       "</table>\n",
       "<p>709124 rows × 2 columns</p>\n",
       "</div>"
      ],
      "text/plain": [
       "        mint timestamp  count\n",
       "0           1617235206      2\n",
       "1           1617235214      4\n",
       "2           1617235218      2\n",
       "3           1617235225      1\n",
       "4           1617235235      2\n",
       "...                ...    ...\n",
       "709119      1632586509     19\n",
       "709120      1632586523      5\n",
       "709121      1632586528      7\n",
       "709122      1632586532      7\n",
       "709123      1632586540      2\n",
       "\n",
       "[709124 rows x 2 columns]"
      ]
     },
     "execution_count": 25,
     "metadata": {},
     "output_type": "execute_result"
    }
   ],
   "source": [
    "m_df"
   ]
  },
  {
   "cell_type": "code",
   "execution_count": 37,
   "metadata": {},
   "outputs": [
    {
     "data": {
      "image/png": "[encoded data removed]",
      "text/plain": [
       "<Figure size 1296x648 with 1 Axes>"
      ]
     },
     "metadata": {
      "needs_background": "light"
     },
     "output_type": "display_data"
    }
   ],
   "source": [
    "plt.figure(figsize=(18,9))\n",
    "plt.plot(m_df['mint timestamp'], m_df['count'])\n",
    "plt.show()"
   ]
  },
  {
   "cell_type": "code",
   "execution_count": 59,
   "metadata": {},
   "outputs": [
    {
     "data": {
      "text/plain": [
       "9.402138413027904"
      ]
     },
     "execution_count": 59,
     "metadata": {},
     "output_type": "execute_result"
    }
   ],
   "source": [
    "np.average(m_df['count'])"
   ]
  },
  {
   "cell_type": "markdown",
   "metadata": {},
   "source": [
    "### SQL Run\n",
    "\n",
    "select timestamp, count(timestamp) as num_mint\n",
    "from mints \n",
    "group by timestamp\n",
    "order by num_mint DESC\n",
    "limit 10;\n",
    "\n",
    "select distinct nft_address \n",
    "from mints \n",
    "where timestamp = 1623239540;\n",
    "\n",
    "select *\n",
    "from nfts\n",
    "where address = '0xe38251813B08C2c048B0582A52501acA5Df0BaAb';\n",
    "\n",
    "### Found\n",
    "1. Max minted in day is 6000 \n",
    "    - Two such days from single NFT Project: Crypto stamp Edition 3\n",
    "        - 1623239540\n",
    "        - 1623238706\n",
    "2. Average number of NFTs minted daily \n",
    "    - 9.4 NFTs \n"
   ]
  },
  {
   "cell_type": "markdown",
   "metadata": {},
   "source": [
    "## Most Valueable Projects \n",
    "integer overflow"
   ]
  },
  {
   "cell_type": "code",
   "execution_count": 39,
   "metadata": {},
   "outputs": [
    {
     "ename": "OperationalError",
     "evalue": "integer overflow",
     "output_type": "error",
     "traceback": [
      "\u001b[0;31m---------------------------------------------------------------------------\u001b[0m",
      "\u001b[0;31mOperationalError\u001b[0m                          Traceback (most recent call last)",
      "\u001b[0;32m<ipython-input-39-fb4c377e18b8>\u001b[0m in \u001b[0;36m<module>\u001b[0;34m\u001b[0m\n\u001b[1;32m      9\u001b[0m \"\"\"\n\u001b[1;32m     10\u001b[0m \u001b[0;34m\u001b[0m\u001b[0m\n\u001b[0;32m---> 11\u001b[0;31m \u001b[0mc\u001b[0m\u001b[0;34m.\u001b[0m\u001b[0mexecute\u001b[0m\u001b[0;34m(\u001b[0m\u001b[0mval\u001b[0m\u001b[0;34m)\u001b[0m\u001b[0;34m\u001b[0m\u001b[0;34m\u001b[0m\u001b[0m\n\u001b[0m\u001b[1;32m     12\u001b[0m \u001b[0mv\u001b[0m \u001b[0;34m=\u001b[0m \u001b[0mc\u001b[0m\u001b[0;34m.\u001b[0m\u001b[0mfetchall\u001b[0m\u001b[0;34m(\u001b[0m\u001b[0;34m)\u001b[0m\u001b[0;34m\u001b[0m\u001b[0;34m\u001b[0m\u001b[0m\n",
      "\u001b[0;31mOperationalError\u001b[0m: integer overflow"
     ]
    }
   ],
   "source": [
    "val = \"\"\"\n",
    "select \n",
    "    nfts.name, \n",
    "    nfts.symbol, \n",
    "    current_market_values.market_value\n",
    "from nfts\n",
    "inner join current_market_values\n",
    "on nfts.address = current_market_values.nft_address\n",
    "group by nfts.name\n",
    "order by current_market_values.market_value\n",
    "limit 10; \n",
    "\"\"\"\n",
    "\n",
    "c.execute(val)\n",
    "v = c.fetchall()"
   ]
  },
  {
   "cell_type": "code",
   "execution_count": 40,
   "metadata": {},
   "outputs": [
    {
     "ename": "NameError",
     "evalue": "name 'v' is not defined",
     "output_type": "error",
     "traceback": [
      "\u001b[0;31m---------------------------------------------------------------------------\u001b[0m",
      "\u001b[0;31mNameError\u001b[0m                                 Traceback (most recent call last)",
      "\u001b[0;32m<ipython-input-40-d9dca2e2b46b>\u001b[0m in \u001b[0;36m<module>\u001b[0;34m\u001b[0m\n\u001b[0;32m----> 1\u001b[0;31m \u001b[0mv_df\u001b[0m \u001b[0;34m=\u001b[0m \u001b[0mpd\u001b[0m\u001b[0;34m.\u001b[0m\u001b[0mDataFrame\u001b[0m\u001b[0;34m(\u001b[0m\u001b[0mv\u001b[0m\u001b[0;34m)\u001b[0m\u001b[0;34m\u001b[0m\u001b[0;34m\u001b[0m\u001b[0m\n\u001b[0m",
      "\u001b[0;31mNameError\u001b[0m: name 'v' is not defined"
     ]
    }
   ],
   "source": [
    "v_df = pd.DataFrame(v)"
   ]
  },
  {
   "cell_type": "markdown",
   "metadata": {},
   "source": [
    "## Distribution of Time hold after minting"
   ]
  },
  {
   "cell_type": "code",
   "execution_count": 41,
   "metadata": {},
   "outputs": [],
   "source": [
    "holding = \"\"\"\n",
    "select * \n",
    "from mint_holding_times\n",
    "\"\"\"\n",
    "\n",
    "c.execute(holding)\n",
    "h = c.fetchall()"
   ]
  },
  {
   "cell_type": "code",
   "execution_count": 44,
   "metadata": {},
   "outputs": [],
   "source": [
    "h_df = pd.DataFrame(s)\n",
    "h_df.columns = ['days', 'count']"
   ]
  },
  {
   "cell_type": "code",
   "execution_count": 53,
   "metadata": {},
   "outputs": [
    {
     "data": {
      "text/plain": [
       "<BarContainer object of 177 artists>"
      ]
     },
     "execution_count": 53,
     "metadata": {},
     "output_type": "execute_result"
    },
    {
     "data": {
      "image/png": "[encoded data removed]",
      "text/plain": [
       "<Figure size 432x288 with 1 Axes>"
      ]
     },
     "metadata": {
      "needs_background": "light"
     },
     "output_type": "display_data"
    }
   ],
   "source": [
    "plt.bar(h_df['days'], h_df['count'])"
   ]
  },
  {
   "cell_type": "code",
   "execution_count": 65,
   "metadata": {},
   "outputs": [
    {
     "data": {
      "text/plain": [
       "0.4708544987779065"
      ]
     },
     "execution_count": 65,
     "metadata": {},
     "output_type": "execute_result"
    }
   ],
   "source": [
    "day = s_df['count'][0]/s_df['count'].sum()\n",
    "day"
   ]
  },
  {
   "cell_type": "code",
   "execution_count": 66,
   "metadata": {},
   "outputs": [
    {
     "data": {
      "text/plain": [
       "0.7462355566686679"
      ]
     },
     "execution_count": 66,
     "metadata": {},
     "output_type": "execute_result"
    }
   ],
   "source": [
    "week = s_df[s_df['days'] < 7]['count'].sum()/s_df['count'].sum()\n",
    "week"
   ]
  },
  {
   "cell_type": "markdown",
   "metadata": {},
   "source": [
    "### Found\n",
    "- Heavily skewed right\n",
    "    - 47.1% of the time people sell within the same day as minting\n",
    "    - 74.6% of the time people sell within the first week\n",
    "- Majority of people are flipping NFTs\n",
    " "
   ]
  },
  {
   "cell_type": "markdown",
   "metadata": {},
   "source": [
    "## Price of NFTs straight from mint"
   ]
  },
  {
   "cell_type": "code",
   "execution_count": 72,
   "metadata": {},
   "outputs": [],
   "source": [
    "mint_p = \"\"\"\n",
    "select transaction_value \n",
    "from mints\n",
    "\"\"\"\n",
    "\n",
    "c.execute(mint_p)\n",
    "mp = c.fetchall()"
   ]
  },
  {
   "cell_type": "code",
   "execution_count": 74,
   "metadata": {},
   "outputs": [],
   "source": [
    "mp_df = pd.DataFrame(mp)"
   ]
  },
  {
   "cell_type": "code",
   "execution_count": 77,
   "metadata": {},
   "outputs": [
    {
     "data": {
      "text/plain": [
       "0    1.890000e+22\n",
       "dtype: float64"
      ]
     },
     "execution_count": 77,
     "metadata": {},
     "output_type": "execute_result"
    }
   ],
   "source": [
    "mp_df.max()"
   ]
  },
  {
   "cell_type": "code",
   "execution_count": 76,
   "metadata": {},
   "outputs": [
    {
     "data": {
      "text/plain": [
       "(array([6.667016e+06, 1.660000e+02, 5.800000e+01, 2.300000e+01,\n",
       "        8.000000e+00, 5.000000e+00, 4.000000e+00, 1.000000e+00,\n",
       "        0.000000e+00, 1.000000e+00]),\n",
       " array([0.000e+00, 1.890e+21, 3.780e+21, 5.670e+21, 7.560e+21, 9.450e+21,\n",
       "        1.134e+22, 1.323e+22, 1.512e+22, 1.701e+22, 1.890e+22]),\n",
       " <BarContainer object of 10 artists>)"
      ]
     },
     "execution_count": 76,
     "metadata": {},
     "output_type": "execute_result"
    },
    {
     "data": {
      "image/png": "[encoded data removed]",
      "text/plain": [
       "<Figure size 432x288 with 1 Axes>"
      ]
     },
     "metadata": {
      "needs_background": "light"
     },
     "output_type": "display_data"
    }
   ],
   "source": [
    "plt.hist(mp_df)"
   ]
  },
  {
   "cell_type": "code",
   "execution_count": null,
   "metadata": {},
   "outputs": [],
   "source": []
  }
 ],
 "metadata": {
  "kernelspec": {
   "display_name": "Python 3",
   "language": "python",
   "name": "python3"
  },
  "language_info": {
   "codemirror_mode": {
    "name": "ipython",
    "version": 3
   },
   "file_extension": ".py",
   "mimetype": "text/x-python",
   "name": "python",
   "nbconvert_exporter": "python",
   "pygments_lexer": "ipython3",
   "version": "3.7.4"
  }
 },
 "nbformat": 4,
 "nbformat_minor": 4
}
